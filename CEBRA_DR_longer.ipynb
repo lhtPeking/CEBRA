{
 "cells": [
  {
   "cell_type": "markdown",
   "metadata": {},
   "source": [
    "这里采用新的数据，每个点表示15帧的数据，一共22500帧，1500个点"
   ]
  },
  {
   "cell_type": "code",
   "execution_count": 1,
   "metadata": {},
   "outputs": [],
   "source": [
    "import sys\n",
    "import torch\n",
    "import numpy as np\n",
    "import pandas as pd\n",
    "import matplotlib.pyplot as plt\n",
    "import joblib as jl\n",
    "import cebra.datasets\n",
    "from cebra import CEBRA\n",
    "from matplotlib.collections import LineCollection\n",
    "import pandas as pd\n",
    "\n",
    "import scipy.io"
   ]
  },
  {
   "cell_type": "code",
   "execution_count": 2,
   "metadata": {},
   "outputs": [
    {
     "name": "stdout",
     "output_type": "stream",
     "text": [
      "data_470_tensor.shape: torch.Size([22499, 2])\n",
      "data_555_tensor.shape: torch.Size([22499, 2])\n",
      "data_both_tensor.shape: torch.Size([22499, 4])\n",
      "mvData.keys(): dict_keys(['__header__', '__version__', '__globals__', 'pred1'])\n",
      "originalMovements.shape: torch.Size([22500, 3, 21])\n"
     ]
    }
   ],
   "source": [
    "# Load original data:\n",
    "\n",
    "data_470 = pd.read_csv('/Users/haotianli/Documents/MATLAB/behaviorAnalysis/Data_470_longer.csv')\n",
    "data_555 = pd.read_csv('/Users/haotianli/Documents/MATLAB/behaviorAnalysis/Data_555_longer.csv')\n",
    "\n",
    "data_470 = data_470.to_numpy()\n",
    "data_555 = data_555.to_numpy()\n",
    "\n",
    "data_470_tensor = torch.tensor(data_470)\n",
    "data_555_tensor = torch.tensor(data_555)\n",
    "print(f'data_470_tensor.shape:', data_470_tensor.shape)\n",
    "print(f'data_555_tensor.shape:', data_555_tensor.shape)\n",
    "\n",
    "data_both_tensor = torch.cat((data_470_tensor, data_555_tensor), dim=1)\n",
    "print(f'data_both_tensor.shape:', data_both_tensor.shape)\n",
    "\n",
    "mvData = scipy.io.loadmat('/Users/haotianli/Documents/MATLAB/behaviorAnalysis/originalMovements_longer.mat') # mvData is a Dict\n",
    "print(f'mvData.keys():', mvData.keys())\n",
    "\n",
    "originalMovements = mvData['pred1']\n",
    "originalMovements = torch.tensor(originalMovements)\n",
    "print(f'originalMovements.shape:', originalMovements.shape)\n"
   ]
  },
  {
   "cell_type": "code",
   "execution_count": 3,
   "metadata": {},
   "outputs": [
    {
     "name": "stdout",
     "output_type": "stream",
     "text": [
      "relativeMovements.shape: torch.Size([22500, 3, 20])\n",
      "recombinedMovements.shape: torch.Size([22486, 3, 20, 2])\n",
      "tensor([[  0.0000, -16.8614],\n",
      "        [  0.0000,   1.4512],\n",
      "        [  0.0000,   1.4820]])\n"
     ]
    }
   ],
   "source": [
    "originalMovements = originalMovements[:, :, :20] # 最后一个点有点奇怪，并不用它\n",
    "relativeMovements = torch.empty_like(originalMovements)\n",
    "\n",
    "for i in range(19):\n",
    "    relativeMovements[:, :, i] = originalMovements[:, :, i] - originalMovements[:, :, 0]\n",
    "\n",
    "print(f'relativeMovements.shape:', relativeMovements.shape)\n",
    "\n",
    "recombinedMovements = torch.empty(22486, 3, 20, 2)\n",
    "for i in range(22486):\n",
    "    recombinedMovements[i, :, :, 0] = relativeMovements[i+7, :, :]\n",
    "    recombinedMovements[i, :, :, 1] = originalMovements[i+14, :, :] - originalMovements[i, :, :]\n",
    "    # 记录0.3s时的相对位置和0.6s内的相对位移(15帧对应0.6s)\n",
    "    \n",
    "print(f'recombinedMovements.shape:', recombinedMovements.shape)\n",
    "print(recombinedMovements[0, :, 0, :])"
   ]
  },
  {
   "cell_type": "code",
   "execution_count": 4,
   "metadata": {},
   "outputs": [
    {
     "name": "stdout",
     "output_type": "stream",
     "text": [
      "recombinedMovements.shape: torch.Size([22486, 60])\n",
      "tensor([39.8441, 36.7893, 38.6367, 40.9445, 16.0287, 14.0434, 16.0163, 16.7545,\n",
      "         2.1001,  0.9872,  2.0704,  1.9473, -5.1776, -4.0253, -6.2187, -6.2606,\n",
      "        -8.9083, -7.9010, -9.0291, -9.7158, -9.6331, -8.8466, -9.6606, -9.7356,\n",
      "        -6.9230, -6.3349, -7.7372, -8.0324, -3.2276, -2.7282, -3.9273, -3.9666,\n",
      "         0.3868,  0.2606,  0.7379,  0.5121,  3.7740,  2.8230,  4.2963,  4.3211,\n",
      "         4.9848,  4.0378,  5.6070,  6.1124,  5.3284,  5.3009,  6.0405,  6.0154,\n",
      "         4.4602,  4.7582,  4.6444,  4.7597,  2.0041,  2.1508,  1.7811,  1.9717,\n",
      "        -0.3508, -0.2718, -0.4680, -0.4411])\n"
     ]
    }
   ],
   "source": [
    "recombinedData = torch.empty(22486, 60)\n",
    "for i in range(22485):\n",
    "    recombinedData[i, :] = torch.cat([data_both_tensor[i, :], data_both_tensor[i+1, :], data_both_tensor[i+2, :],\n",
    "                                         data_both_tensor[i+3, :], data_both_tensor[i+4, :], data_both_tensor[i+5, :],\n",
    "                                         data_both_tensor[i+6, :], data_both_tensor[i+7, :], data_both_tensor[i+8, :],\n",
    "                                         data_both_tensor[i+9, :], data_both_tensor[i+10, :], data_both_tensor[i+11, :],\n",
    "                                         data_both_tensor[i+12, :], data_both_tensor[i+13, :], data_both_tensor[i+14, :]],\n",
    "                                         dim=-1)\n",
    "    \n",
    "print(f'recombinedMovements.shape:', recombinedData.shape)\n",
    "print(recombinedData[0, :])"
   ]
  },
  {
   "cell_type": "code",
   "execution_count": 5,
   "metadata": {},
   "outputs": [
    {
     "name": "stdout",
     "output_type": "stream",
     "text": [
      "torch.Size([22486, 3, 20])\n",
      "tensor([[  0.0000,  11.4123,  18.8121,   0.6629, -25.8259, -39.2717, -57.7071,\n",
      "          -5.2035,  -6.8539, -11.6417,  -6.2767,   1.8661,   1.1683,   0.3176,\n",
      "           3.5627, -34.2396, -36.4796, -29.9723, -21.7945,   0.0000],\n",
      "        [  0.0000, -23.6484,  -2.5210, -14.1014, -32.9555, -48.1860, -58.0846,\n",
      "          -7.3255,  -9.6916, -10.7005,  -9.0297, -22.1142, -23.9138, -24.0226,\n",
      "         -22.3292, -25.1588, -32.6603, -26.9502, -52.3170,   0.0000],\n",
      "        [  0.0000,  -1.3511, -23.4172,  -6.9699,  -4.3073, -12.8837, -11.4286,\n",
      "         -24.4257, -21.8923, -14.2840,  -6.6927, -27.7108, -26.5971, -17.5156,\n",
      "          -7.6515, -27.4081, -22.9548, -15.4427, -23.2661,   0.0000]],\n",
      "       dtype=torch.float64)\n",
      "torch.Size([22486, 60])\n"
     ]
    }
   ],
   "source": [
    "max_iterations = 1\n",
    "output_dimension = 32 # here, we set as a variable for hypothesis testing below.\n",
    "\n",
    "relativeMovementsIndex = relativeMovements[7:-7]\n",
    "print(relativeMovementsIndex.shape)\n",
    "print(relativeMovements[1, :, :])\n",
    "\n",
    "relativeMovementsIndex = relativeMovementsIndex.reshape(22486, -1)\n",
    "print(relativeMovementsIndex.shape)"
   ]
  },
  {
   "cell_type": "code",
   "execution_count": 6,
   "metadata": {},
   "outputs": [
    {
     "name": "stderr",
     "output_type": "stream",
     "text": [
      "pos: -0.5868 neg:  6.6491 total:  6.0623 temperature:  1.0000: 100%|██████████| 1/1 [00:00<00:00,  1.43it/s]\n"
     ]
    }
   ],
   "source": [
    "cebra_dr_both_behavior = CEBRA(model_architecture='offset10-model',\n",
    "                        batch_size=512,\n",
    "                        learning_rate=3e-4,\n",
    "                        temperature=1,\n",
    "                        output_dimension=3,\n",
    "                        max_iterations=max_iterations,\n",
    "                        distance='cosine',\n",
    "                        conditional='time_delta',\n",
    "                        device='cuda_if_available',\n",
    "                        verbose=True,\n",
    "                        time_offsets=10)\n",
    "\n",
    "cebra_dr_both_behavior.fit(recombinedData, relativeMovementsIndex)\n",
    "cebra_dr_both_behavior_para = cebra_dr_both_behavior.transform(recombinedData)"
   ]
  },
  {
   "cell_type": "code",
   "execution_count": 7,
   "metadata": {},
   "outputs": [
    {
     "name": "stderr",
     "output_type": "stream",
     "text": [
      "behavior_pos: -0.6714 behavior_neg:  6.8054 behavior_total:  6.1341 time_pos: -0.5676 time_neg:  6.8054 time_total:  6.2378: 100%|██████████| 1/1 [00:00<00:00, 13.85it/s]\n"
     ]
    }
   ],
   "source": [
    "cebra_dr_both_time_behavior = CEBRA(model_architecture='offset10-model',\n",
    "                        batch_size=512,\n",
    "                        learning_rate=3e-4,\n",
    "                        temperature=1,\n",
    "                        output_dimension=3,\n",
    "                        max_iterations=max_iterations,\n",
    "                        distance='cosine',\n",
    "                        conditional='time_delta',\n",
    "                        device='cuda_if_available',\n",
    "                        verbose=True,\n",
    "                        time_offsets=10,\n",
    "                        hybrid = True)\n",
    "\n",
    "cebra_dr_both_time_behavior.fit(recombinedData, relativeMovementsIndex)\n",
    "cebra_dr_both_time_behavior_para = cebra_dr_both_time_behavior.transform(recombinedData)"
   ]
  },
  {
   "cell_type": "code",
   "execution_count": 8,
   "metadata": {},
   "outputs": [
    {
     "name": "stderr",
     "output_type": "stream",
     "text": [
      "pos: -0.3841 neg:  6.7218 total:  6.3377 temperature:  1.0000: 100%|██████████| 1/1 [00:00<00:00, 82.36it/s]\n"
     ]
    }
   ],
   "source": [
    "cebra_dr_both_time_behavior_shuffle = CEBRA(model_architecture='offset10-model',\n",
    "                        batch_size=512,\n",
    "                        learning_rate=3e-4,\n",
    "                        temperature=1,\n",
    "                        output_dimension=3,\n",
    "                        max_iterations=max_iterations,\n",
    "                        distance='cosine',\n",
    "                        conditional='time_delta',\n",
    "                        device='cuda_if_available',\n",
    "                        verbose=True,\n",
    "                        time_offsets=10)\n",
    "\n",
    "### Shuffle the behavior variable and use it for training\n",
    "shuffled_posdir = np.random.permutation(relativeMovementsIndex)\n",
    "cebra_dr_both_time_behavior_shuffle.fit(recombinedData, shuffled_posdir)\n",
    "cebra_dr_both_time_behavior_shuffle_para = cebra_dr_both_time_behavior_shuffle.transform(recombinedData)"
   ]
  },
  {
   "cell_type": "code",
   "execution_count": 9,
   "metadata": {},
   "outputs": [
    {
     "name": "stderr",
     "output_type": "stream",
     "text": [
      "pos: -0.4164 neg:  6.6316 total:  6.2152 temperature:  1.1200: 100%|██████████| 1/1 [00:00<00:00, 63.38it/s]\n"
     ]
    }
   ],
   "source": [
    "cebra_dr_both_time = CEBRA(model_architecture='offset10-model',\n",
    "                        batch_size=512,\n",
    "                        learning_rate=3e-4,\n",
    "                        temperature=1.12,\n",
    "                        output_dimension=3,\n",
    "                        max_iterations=max_iterations,\n",
    "                        distance='cosine',\n",
    "                        conditional='time',\n",
    "                        device='cuda_if_available',\n",
    "                        verbose=True,\n",
    "                        time_offsets=10)\n",
    "\n",
    "cebra_dr_both_time.fit(recombinedData)\n",
    "cebra_dr_both_time_para = cebra_dr_both_time.transform(recombinedData)"
   ]
  },
  {
   "cell_type": "code",
   "execution_count": 10,
   "metadata": {},
   "outputs": [],
   "source": [
    "def plot_cebra_both(ax, embedding, label, gray = False, idx_order = (0,1,2)):\n",
    "    r_ind = torch.ones(label.size(0), dtype=torch.bool)\n",
    "    print(r_ind)\n",
    "    l_ind = 0 # 这里假设所有点都满足r标签为真(目前的系统不需要考虑左右标签，可以降维结束后另外更改作图条件)\n",
    "\n",
    "    if not gray:\n",
    "        r_cmap = 'cool'\n",
    "        l_cmap = 'viridis'\n",
    "        r_c = label[r_ind, 0]\n",
    "        l_c = label[l_ind, 0]\n",
    "    else:\n",
    "        r_cmap = None\n",
    "        l_cmap = None\n",
    "        r_c = 'gray'\n",
    "        l_c = 'gray'\n",
    "\n",
    "    idx1, idx2, idx3 = idx_order\n",
    "    \n",
    "    r=ax.scatter(embedding [r_ind,idx1], # 只启用这里的scatter,产生的是假颜色\n",
    "               embedding [r_ind,idx2],\n",
    "               embedding [r_ind,idx3],\n",
    "               c=r_c,\n",
    "               cmap=r_cmap, s=0.2)\n",
    "    l=ax.scatter(embedding [l_ind,idx1],\n",
    "               embedding [l_ind,idx2],\n",
    "               embedding [l_ind,idx3],\n",
    "               c=l_c,\n",
    "               cmap=l_cmap, s=0.2)\n",
    "\n",
    "    ax.grid(False)\n",
    "    ax.xaxis.pane.fill = False\n",
    "    ax.yaxis.pane.fill = False\n",
    "    ax.zaxis.pane.fill = False\n",
    "    ax.xaxis.pane.set_edgecolor('w')\n",
    "    ax.yaxis.pane.set_edgecolor('w')\n",
    "    ax.zaxis.pane.set_edgecolor('w')\n",
    "\n",
    "    return ax"
   ]
  },
  {
   "cell_type": "code",
   "execution_count": 11,
   "metadata": {},
   "outputs": [
    {
     "name": "stdout",
     "output_type": "stream",
     "text": [
      "tensor([True, True, True,  ..., True, True, True])\n",
      "tensor([True, True, True,  ..., True, True, True])\n",
      "tensor([True, True, True,  ..., True, True, True])\n",
      "tensor([True, True, True,  ..., True, True, True])\n"
     ]
    },
    {
     "data": {
      "image/png": "[encoded data removed]",
      "text/plain": [
       "<Figure size 1000x200 with 4 Axes>"
      ]
     },
     "metadata": {},
     "output_type": "display_data"
    }
   ],
   "source": [
    "%matplotlib inline\n",
    "fig = plt.figure(figsize=(10,2))\n",
    "\n",
    "ax1 = plt.subplot(141, projection='3d')\n",
    "ax2 = plt.subplot(142, projection='3d')\n",
    "ax3 = plt.subplot(143, projection='3d')\n",
    "ax4 = plt.subplot(144, projection='3d')\n",
    "\n",
    "ax1=plot_cebra_both(ax1, cebra_dr_both_behavior_para, relativeMovementsIndex)\n",
    "ax2=plot_cebra_both(ax2, cebra_dr_both_time_behavior_shuffle_para, relativeMovementsIndex)\n",
    "ax3=plot_cebra_both(ax3, cebra_dr_both_time_para, relativeMovementsIndex)\n",
    "ax4=plot_cebra_both(ax4, cebra_dr_both_time_behavior_para, relativeMovementsIndex)\n",
    "\n",
    "ax1.set_title('CEBRA-Behavior')\n",
    "ax2.set_title('CEBRA-Shuffled')\n",
    "ax3.set_title('CEBRA-Time')\n",
    "ax4.set_title('CEBRA-Hybrid')\n",
    "plt.tight_layout()\n",
    "plt.show()"
   ]
  },
  {
   "cell_type": "code",
   "execution_count": 13,
   "metadata": {},
   "outputs": [
    {
     "data": {
      "text/plain": [
       "<Axes: xlabel='Steps', ylabel='InfoNCE Loss'>"
      ]
     },
     "execution_count": 13,
     "metadata": {},
     "output_type": "execute_result"
    },
    {
     "data": {
      "image/png": "[encoded data removed]",
      "text/plain": [
       "<Figure size 700x400 with 1 Axes>"
      ]
     },
     "metadata": {},
     "output_type": "display_data"
    }
   ],
   "source": [
    "cebra.plot_loss(cebra_dr_both_time)"
   ]
  }
 ],
 "metadata": {
  "kernelspec": {
   "display_name": "CEBRA",
   "language": "python",
   "name": "python3"
  },
  "language_info": {
   "codemirror_mode": {
    "name": "ipython",
    "version": 3
   },
   "file_extension": ".py",
   "mimetype": "text/x-python",
   "name": "python",
   "nbconvert_exporter": "python",
   "pygments_lexer": "ipython3",
   "version": "3.10.14"
  }
 },
 "nbformat": 4,
 "nbformat_minor": 2
}
