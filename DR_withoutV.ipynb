{
 "cells": [
  {
   "cell_type": "markdown",
   "metadata": {},
   "source": [
    "这个程序只考虑movement矩阵的位置信息，不考虑速度信息，并且不对原矩阵做PCA；单个时间点会强行扩展为多个以伪造高维数据，"
   ]
  },
  {
   "cell_type": "code",
   "execution_count": 2,
   "metadata": {},
   "outputs": [],
   "source": [
    "import sys\n",
    "import torch\n",
    "import numpy as np\n",
    "import pandas as pd\n",
    "import matplotlib.pyplot as plt\n",
    "import joblib as jl\n",
    "import cebra.datasets\n",
    "from cebra import CEBRA\n",
    "from matplotlib.collections import LineCollection\n",
    "import pandas as pd\n",
    "\n",
    "import scipy.io"
   ]
  },
  {
   "cell_type": "code",
   "execution_count": 3,
   "metadata": {},
   "outputs": [
    {
     "name": "stdout",
     "output_type": "stream",
     "text": [
      "data_470_tensor.shape: torch.Size([2249, 2])\n",
      "data_555_tensor.shape: torch.Size([2249, 2])\n",
      "data_both_tensor.shape: torch.Size([2249, 4])\n",
      "mvData.keys(): dict_keys(['__header__', '__version__', '__globals__', 'pred'])\n",
      "originalMovements.shape: torch.Size([2250, 3, 21])\n"
     ]
    }
   ],
   "source": [
    "# Load original data:\n",
    "\n",
    "data_470 = pd.read_csv('/Users/haotianli/Documents/MATLAB/behaviorAnalysis/Data_470.csv')\n",
    "data_555 = pd.read_csv('/Users/haotianli/Documents/MATLAB/behaviorAnalysis/Data_555.csv')\n",
    "\n",
    "data_470 = data_470.to_numpy()\n",
    "data_555 = data_555.to_numpy()\n",
    "\n",
    "data_470_tensor = torch.tensor(data_470)\n",
    "data_555_tensor = torch.tensor(data_555)\n",
    "print(f'data_470_tensor.shape:', data_470_tensor.shape)\n",
    "print(f'data_555_tensor.shape:', data_555_tensor.shape)\n",
    "\n",
    "data_both_tensor = torch.cat((data_470_tensor, data_555_tensor), dim=1)\n",
    "print(f'data_both_tensor.shape:', data_both_tensor.shape)\n",
    "\n",
    "mvData = scipy.io.loadmat('/Users/haotianli/Documents/MATLAB/behaviorAnalysis/orginalMovements.mat') # mvData is a Dict\n",
    "print(f'mvData.keys():', mvData.keys())\n",
    "\n",
    "originalMovements = mvData['pred']\n",
    "originalMovements = torch.tensor(originalMovements)\n",
    "print(f'originalMovements.shape:', originalMovements.shape)"
   ]
  },
  {
   "cell_type": "code",
   "execution_count": 4,
   "metadata": {},
   "outputs": [
    {
     "name": "stdout",
     "output_type": "stream",
     "text": [
      "relativeMovements.shape: torch.Size([2250, 3, 21])\n"
     ]
    }
   ],
   "source": [
    "relativeMovements = torch.empty_like(originalMovements)\n",
    "\n",
    "for i in range(20):\n",
    "    relativeMovements[:, :, i] = originalMovements[:, :, i] - originalMovements[:, :, 0]\n",
    "\n",
    "print(f'relativeMovements.shape:', relativeMovements.shape)"
   ]
  },
  {
   "cell_type": "code",
   "execution_count": 9,
   "metadata": {},
   "outputs": [
    {
     "name": "stdout",
     "output_type": "stream",
     "text": [
      "recombinedMovements.shape: torch.Size([2236, 4, 15])\n",
      "tensor([[14.1971,  5.6910,  0.7162, -1.8832, -3.2156, -3.4745, -2.5066, -1.1867,\n",
      "          0.1042,  1.3141,  1.7465,  1.8692,  1.5591,  0.6819, -0.1592],\n",
      "        [14.3584,  5.4601,  0.3525, -1.6084, -3.1246, -3.4945, -2.5119, -1.1010,\n",
      "          0.0682,  1.0707,  1.5459,  2.0400,  1.8277,  0.8077, -0.1400],\n",
      "        [13.9990,  5.7836,  0.7186, -2.2919, -3.3126, -3.5420, -2.8434, -1.4597,\n",
      "          0.2346,  1.5270,  2.0030,  2.1605,  1.6534,  0.6135, -0.2033],\n",
      "        [14.0741,  5.7393,  0.6374, -2.1907, -3.3812, -3.3880, -2.8012, -1.4003,\n",
      "          0.1429,  1.4553,  2.0725,  2.0391,  1.6064,  0.6458, -0.1855]])\n"
     ]
    }
   ],
   "source": [
    "# recombinedData = torch.empty(2236, 4, 15)\n",
    "# for i in range(2235):\n",
    "#     recombinedData[i, :, :] = torch.cat([data_both_tensor[i, :].unsqueeze(-1), data_both_tensor[i+1, :].unsqueeze(-1), data_both_tensor[i+2, :].unsqueeze(-1),\n",
    "#                                          data_both_tensor[i+3, :].unsqueeze(-1), data_both_tensor[i+4, :].unsqueeze(-1), data_both_tensor[i+5, :].unsqueeze(-1),\n",
    "#                                          data_both_tensor[i+6, :].unsqueeze(-1), data_both_tensor[i+7, :].unsqueeze(-1), data_both_tensor[i+8, :].unsqueeze(-1),\n",
    "#                                          data_both_tensor[i+9, :].unsqueeze(-1), data_both_tensor[i+10, :].unsqueeze(-1), data_both_tensor[i+11, :].unsqueeze(-1),\n",
    "#                                          data_both_tensor[i+12, :].unsqueeze(-1), data_both_tensor[i+13, :].unsqueeze(-1), data_both_tensor[i+14, :].unsqueeze(-1)],\n",
    "#                                          dim=-1)\n",
    "    \n",
    "# print(f'recombinedMovements.shape:', recombinedData.shape)\n",
    "# print(recombinedData[0, :, :])"
   ]
  },
  {
   "cell_type": "code",
   "execution_count": 17,
   "metadata": {},
   "outputs": [
    {
     "name": "stdout",
     "output_type": "stream",
     "text": [
      "recombinedMovements.shape: torch.Size([2236, 60])\n",
      "tensor([14.1971, 14.3584, 13.9990, 14.0741,  5.6910,  5.4601,  5.7836,  5.7393,\n",
      "         0.7162,  0.3525,  0.7186,  0.6374, -1.8832, -1.6084, -2.2919, -2.1907,\n",
      "        -3.2156, -3.1246, -3.3126, -3.3812, -3.4745, -3.4945, -3.5420, -3.3880,\n",
      "        -2.5066, -2.5119, -2.8434, -2.8012, -1.1867, -1.1010, -1.4597, -1.4003,\n",
      "         0.1042,  0.0682,  0.2346,  0.1429,  1.3141,  1.0707,  1.5270,  1.4553,\n",
      "         1.7465,  1.5459,  2.0030,  2.0725,  1.8692,  2.0400,  2.1605,  2.0391,\n",
      "         1.5591,  1.8277,  1.6534,  1.6064,  0.6819,  0.8077,  0.6135,  0.6458,\n",
      "        -0.1592, -0.1400, -0.2033, -0.1855])\n"
     ]
    }
   ],
   "source": [
    "recombinedData = torch.empty(2236, 60)\n",
    "for i in range(2235):\n",
    "    recombinedData[i, :] = torch.cat([data_both_tensor[i, :], data_both_tensor[i+1, :], data_both_tensor[i+2, :],\n",
    "                                         data_both_tensor[i+3, :], data_both_tensor[i+4, :], data_both_tensor[i+5, :],\n",
    "                                         data_both_tensor[i+6, :], data_both_tensor[i+7, :], data_both_tensor[i+8, :],\n",
    "                                         data_both_tensor[i+9, :], data_both_tensor[i+10, :], data_both_tensor[i+11, :],\n",
    "                                         data_both_tensor[i+12, :], data_both_tensor[i+13, :], data_both_tensor[i+14, :]],\n",
    "                                         dim=-1)\n",
    "    \n",
    "print(f'recombinedMovements.shape:', recombinedData.shape)\n",
    "print(recombinedData[0, :])"
   ]
  },
  {
   "cell_type": "code",
   "execution_count": 18,
   "metadata": {},
   "outputs": [
    {
     "name": "stdout",
     "output_type": "stream",
     "text": [
      "torch.Size([2236, 3, 21])\n",
      "torch.Size([2236, 63])\n"
     ]
    }
   ],
   "source": [
    "max_iterations = 10000\n",
    "output_dimension = 32 # here, we set as a variable for hypothesis testing below.\n",
    "\n",
    "relativeMovementsIndex = relativeMovements[7:-7]\n",
    "print(relativeMovementsIndex.shape)\n",
    "\n",
    "relativeMovementsIndex = relativeMovementsIndex.reshape(2236, -1)\n",
    "print(relativeMovementsIndex.shape)"
   ]
  },
  {
   "cell_type": "code",
   "execution_count": 19,
   "metadata": {},
   "outputs": [
    {
     "name": "stderr",
     "output_type": "stream",
     "text": [
      "pos: -0.7846 neg:  6.4268 total:  5.6422 temperature:  1.0000: 100%|██████████| 10000/10000 [01:39<00:00, 100.05it/s]\n"
     ]
    }
   ],
   "source": [
    "cebra_dr_both_behavior = CEBRA(model_architecture='offset10-model',\n",
    "                        batch_size=512,\n",
    "                        learning_rate=3e-4,\n",
    "                        temperature=1,\n",
    "                        output_dimension=3,\n",
    "                        max_iterations=max_iterations,\n",
    "                        distance='cosine',\n",
    "                        conditional='time_delta',\n",
    "                        device='cuda_if_available',\n",
    "                        verbose=True,\n",
    "                        time_offsets=10)\n",
    "\n",
    "cebra_dr_both_behavior.fit(recombinedData, relativeMovementsIndex)\n",
    "cebra_dr_both_behavior_para = cebra_dr_both_behavior.transform(recombinedData)"
   ]
  },
  {
   "cell_type": "code",
   "execution_count": 20,
   "metadata": {},
   "outputs": [
    {
     "name": "stderr",
     "output_type": "stream",
     "text": [
      "behavior_pos: -0.6020 behavior_neg:  6.4222 behavior_total:  5.8202 time_pos: -0.8873 time_neg:  6.4222 time_total:  5.5349: 100%|██████████| 10000/10000 [02:50<00:00, 58.51it/s]\n"
     ]
    }
   ],
   "source": [
    "cebra_dr_both_time_behavior = CEBRA(model_architecture='offset10-model',\n",
    "                        batch_size=512,\n",
    "                        learning_rate=3e-4,\n",
    "                        temperature=1,\n",
    "                        output_dimension=3,\n",
    "                        max_iterations=max_iterations,\n",
    "                        distance='cosine',\n",
    "                        conditional='time_delta',\n",
    "                        device='cuda_if_available',\n",
    "                        verbose=True,\n",
    "                        time_offsets=10,\n",
    "                        hybrid = True)\n",
    "\n",
    "cebra_dr_both_time_behavior.fit(recombinedData, relativeMovementsIndex)\n",
    "cebra_dr_both_time_behavior_para = cebra_dr_both_time_behavior.transform(recombinedData)"
   ]
  },
  {
   "cell_type": "code",
   "execution_count": 21,
   "metadata": {},
   "outputs": [
    {
     "name": "stderr",
     "output_type": "stream",
     "text": [
      "pos: -0.5943 neg:  6.7440 total:  6.1497 temperature:  1.0000: 100%|██████████| 10000/10000 [01:43<00:00, 96.75it/s]\n"
     ]
    }
   ],
   "source": [
    "cebra_dr_both_time_behavior_shuffle = CEBRA(model_architecture='offset10-model',\n",
    "                        batch_size=512,\n",
    "                        learning_rate=3e-4,\n",
    "                        temperature=1,\n",
    "                        output_dimension=3,\n",
    "                        max_iterations=max_iterations,\n",
    "                        distance='cosine',\n",
    "                        conditional='time_delta',\n",
    "                        device='cuda_if_available',\n",
    "                        verbose=True,\n",
    "                        time_offsets=10)\n",
    "\n",
    "### Shuffle the behavior variable and use it for training\n",
    "shuffled_posdir = np.random.permutation(relativeMovementsIndex)\n",
    "cebra_dr_both_time_behavior_shuffle.fit(recombinedData, shuffled_posdir)\n",
    "cebra_dr_both_time_behavior_shuffle_para = cebra_dr_both_time_behavior_shuffle.transform(recombinedData)"
   ]
  },
  {
   "cell_type": "code",
   "execution_count": 22,
   "metadata": {},
   "outputs": [
    {
     "name": "stderr",
     "output_type": "stream",
     "text": [
      "pos: -0.8283 neg:  6.3683 total:  5.5400 temperature:  1.1200: 100%|██████████| 10000/10000 [01:38<00:00, 101.22it/s]\n"
     ]
    }
   ],
   "source": [
    "cebra_dr_both_time = CEBRA(model_architecture='offset10-model',\n",
    "                        batch_size=512,\n",
    "                        learning_rate=3e-4,\n",
    "                        temperature=1.12,\n",
    "                        output_dimension=3,\n",
    "                        max_iterations=max_iterations,\n",
    "                        distance='cosine',\n",
    "                        conditional='time',\n",
    "                        device='cuda_if_available',\n",
    "                        verbose=True,\n",
    "                        time_offsets=10)\n",
    "\n",
    "cebra_dr_both_time.fit(recombinedData)\n",
    "cebra_dr_both_time_para = cebra_dr_both_time.transform(recombinedData)"
   ]
  },
  {
   "cell_type": "code",
   "execution_count": 23,
   "metadata": {},
   "outputs": [],
   "source": [
    "def plot_cebra_both(ax, embedding, label, gray = False, idx_order = (0,1,2)):\n",
    "    r_ind = torch.ones(label.size(0), dtype=torch.bool)\n",
    "    print(r_ind)\n",
    "    l_ind = 0 # 这里假设所有点都满足r标签为真(目前的系统不需要考虑左右标签，可以降维结束后另外更改作图条件)\n",
    "\n",
    "    if not gray:\n",
    "        r_cmap = 'cool'\n",
    "        l_cmap = 'viridis'\n",
    "        r_c = label[r_ind, 0]\n",
    "        l_c = label[l_ind, 0]\n",
    "    else:\n",
    "        r_cmap = None\n",
    "        l_cmap = None\n",
    "        r_c = 'gray'\n",
    "        l_c = 'gray'\n",
    "\n",
    "    idx1, idx2, idx3 = idx_order\n",
    "    \n",
    "    r=ax.scatter(embedding [r_ind,idx1], # 只启用这里的scatter,产生的是假颜色\n",
    "               embedding [r_ind,idx2],\n",
    "               embedding [r_ind,idx3],\n",
    "               c=r_c,\n",
    "               cmap=r_cmap, s=0.2)\n",
    "    l=ax.scatter(embedding [l_ind,idx1],\n",
    "               embedding [l_ind,idx2],\n",
    "               embedding [l_ind,idx3],\n",
    "               c=l_c,\n",
    "               cmap=l_cmap, s=0.2)\n",
    "\n",
    "    ax.grid(False)\n",
    "    ax.xaxis.pane.fill = False\n",
    "    ax.yaxis.pane.fill = False\n",
    "    ax.zaxis.pane.fill = False\n",
    "    ax.xaxis.pane.set_edgecolor('w')\n",
    "    ax.yaxis.pane.set_edgecolor('w')\n",
    "    ax.zaxis.pane.set_edgecolor('w')\n",
    "\n",
    "    return ax"
   ]
  },
  {
   "cell_type": "code",
   "execution_count": 24,
   "metadata": {},
   "outputs": [
    {
     "name": "stdout",
     "output_type": "stream",
     "text": [
      "tensor([True, True, True,  ..., True, True, True])\n",
      "tensor([True, True, True,  ..., True, True, True])\n",
      "tensor([True, True, True,  ..., True, True, True])\n",
      "tensor([True, True, True,  ..., True, True, True])\n"
     ]
    },
    {
     "data": {
      "image/png": "[encoded data removed]",
      "text/plain": [
       "<Figure size 1000x200 with 4 Axes>"
      ]
     },
     "metadata": {},
     "output_type": "display_data"
    }
   ],
   "source": [
    "%matplotlib inline\n",
    "fig = plt.figure(figsize=(10,2))\n",
    "\n",
    "ax1 = plt.subplot(141, projection='3d')\n",
    "ax2 = plt.subplot(142, projection='3d')\n",
    "ax3 = plt.subplot(143, projection='3d')\n",
    "ax4 = plt.subplot(144, projection='3d')\n",
    "\n",
    "ax1=plot_cebra_both(ax1, cebra_dr_both_behavior_para, relativeMovementsIndex)\n",
    "ax2=plot_cebra_both(ax2, cebra_dr_both_time_behavior_shuffle_para, relativeMovementsIndex)\n",
    "ax3=plot_cebra_both(ax3, cebra_dr_both_time_para, relativeMovementsIndex)\n",
    "ax4=plot_cebra_both(ax4, cebra_dr_both_time_behavior_para, relativeMovementsIndex)\n",
    "\n",
    "ax1.set_title('CEBRA-Behavior')\n",
    "ax2.set_title('CEBRA-Shuffled')\n",
    "ax3.set_title('CEBRA-Time')\n",
    "ax4.set_title('CEBRA-Hybrid')\n",
    "plt.tight_layout()\n",
    "plt.show()"
   ]
  }
 ],
 "metadata": {
  "kernelspec": {
   "display_name": "CEBRA",
   "language": "python",
   "name": "python3"
  },
  "language_info": {
   "codemirror_mode": {
    "name": "ipython",
    "version": 3
   },
   "file_extension": ".py",
   "mimetype": "text/x-python",
   "name": "python",
   "nbconvert_exporter": "python",
   "pygments_lexer": "ipython3",
   "version": "3.10.14"
  }
 },
 "nbformat": 4,
 "nbformat_minor": 2
}
